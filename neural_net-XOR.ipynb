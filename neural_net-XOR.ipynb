{
 "cells": [
  {
   "cell_type": "code",
   "execution_count": 15,
   "metadata": {},
   "outputs": [
    {
     "data": {
      "text/plain": [
       "array([[0, 0],\n",
       "       [0, 1],\n",
       "       [1, 0],\n",
       "       [1, 1]])"
      ]
     },
     "execution_count": 15,
     "metadata": {},
     "output_type": "execute_result"
    }
   ],
   "source": [
    "import pandas as pd\n",
    "import numpy as np\n",
    "import matplotlib.pyplot as plt \n",
    "def tanh(z):\n",
    "    return (np.exp(z)-np.exp(-z))/(np.exp(z)+np.exp(-z))\n",
    "input_features=np.array([[0,0],[0,1],[1,0],[1,1]])\n",
    "input_features"
   ]
  },
  {
   "cell_type": "code",
   "execution_count": 16,
   "metadata": {},
   "outputs": [
    {
     "data": {
      "text/plain": [
       "4"
      ]
     },
     "execution_count": 16,
     "metadata": {},
     "output_type": "execute_result"
    }
   ],
   "source": [
    "target_output=np.array([[0,1,1,0]])\n",
    "target_output=target_output.reshape(4,1)\n",
    "target_output.shape[0]"
   ]
  },
  {
   "cell_type": "code",
   "execution_count": 17,
   "metadata": {},
   "outputs": [],
   "source": [
    "W_layer1 = np.random.randn(2,3)\n",
    "W_layer2 = np.random.randn(3,1) \n",
    "bshape=target_output.shape[0]\n",
    "def bias():\n",
    "    b1=np.random.randn(bshape,3)\n",
    "    b2=np.random.randn(bshape,1)\n",
    "    return b1,b2\n",
    "def tanh_der(z):\n",
    "    return (1-(tanh(z)*tanh(z)))"
   ]
  },
  {
   "cell_type": "code",
   "execution_count": 18,
   "metadata": {},
   "outputs": [],
   "source": [
    "b1,b2=bias()"
   ]
  },
  {
   "cell_type": "code",
   "execution_count": 19,
   "metadata": {},
   "outputs": [],
   "source": [
    "def feedforward(input_features,W_layer1,W_layer2,b1,b2):\n",
    "    input_layer1= np.dot(input_features,W_layer1)+b1\n",
    "    output_layer1=tanh(input_layer1)\n",
    "    input_layer2=np.dot(output_layer1,W_layer2)+b2\n",
    "    output_layer2=tanh(input_layer2)\n",
    "    return input_layer1,output_layer1,input_layer2,output_layer2\n",
    "def backprop(input_features,W_layer1,W_layer2,input_layer1,output_layer1,input_layer2,output_layer2):\n",
    "    de_dout2=2*(output_layer2-target_output)\n",
    "    dout2_din2=tanh_der(input_layer2)\n",
    "    din2_dw2=output_layer1\n",
    "    de_dw2= np.dot(din2_dw2.T,de_dout2*dout2_din2)\n",
    "    de_din2=de_dout2*dout2_din2\n",
    "    din2_dout1=W_layer2\n",
    "    de_dout1=np.dot(de_din2,din2_dout1.T)\n",
    "    dout1_din1=tanh_der(input_layer1)\n",
    "    del1=dout1_din1*de_dout1\n",
    "    din1_dw1=input_features\n",
    "    de_dw1=np.dot(din1_dw1.T,del1)\n",
    "    return de_dw1,de_dw2,del1,de_din2"
   ]
  },
  {
   "cell_type": "code",
   "execution_count": 20,
   "metadata": {},
   "outputs": [],
   "source": [
    "#gradient descent computation\n",
    "for epoch in range(10000):\n",
    "    input_layer1,output_layer1,input_layer2,output_layer2=feedforward(input_features,W_layer1,W_layer2,b1,b2)\n",
    "    de_dw1,de_dw2,del1,de_din2=backprop(input_features,W_layer1,W_layer2,input_layer1,output_layer1,input_layer2,output_layer2)\n",
    "    lr=0.01\n",
    "    W_layer1-=lr*de_dw1\n",
    "    W_layer2-=lr*de_dw2\n",
    "    b1-=lr*del1\n",
    "    b2-=lr*de_din2"
   ]
  },
  {
   "cell_type": "code",
   "execution_count": 21,
   "metadata": {},
   "outputs": [
    {
     "data": {
      "text/plain": [
       "array([[-5.04882615e-06],\n",
       "       [ 9.90070020e-01],\n",
       "       [ 9.88851832e-01],\n",
       "       [ 8.49540333e-05]])"
      ]
     },
     "execution_count": 21,
     "metadata": {},
     "output_type": "execute_result"
    }
   ],
   "source": [
    "#testing for XOR gate\n",
    "test_input=np.array([[0,0],[0,1],[1,0],[1,1]])\n",
    "input_test1=np.dot(test_input,W_layer1)+b1\n",
    "output_test1=tanh(input_test1)\n",
    "input_test2=np.dot(output_test1,W_layer2)+b2\n",
    "output_test2=tanh(input_test2)\n",
    "output_test2"
   ]
  },
  {
   "cell_type": "code",
   "execution_count": null,
   "metadata": {},
   "outputs": [],
   "source": []
  }
 ],
 "metadata": {
  "kernelspec": {
   "display_name": "Python 3",
   "language": "python",
   "name": "python3"
  },
  "language_info": {
   "codemirror_mode": {
    "name": "ipython",
    "version": 3
   },
   "file_extension": ".py",
   "mimetype": "text/x-python",
   "name": "python",
   "nbconvert_exporter": "python",
   "pygments_lexer": "ipython3",
   "version": "3.8.3"
  }
 },
 "nbformat": 4,
 "nbformat_minor": 4
}
